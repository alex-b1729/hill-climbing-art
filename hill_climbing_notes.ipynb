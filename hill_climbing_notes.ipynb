{
 "cells": [
  {
   "cell_type": "markdown",
   "id": "c366c103-4b00-495f-b69c-c5cfdd374931",
   "metadata": {},
   "source": [
    "# Hill climbing art"
   ]
  },
  {
   "cell_type": "code",
   "execution_count": 7,
   "id": "5841a0a9-d04c-43ec-bf5b-ecaefc4a2f29",
   "metadata": {},
   "outputs": [],
   "source": [
    "import numpy as np\n",
    "from PIL import Image\n",
    "\n",
    "# open the target image\n",
    "target_image_path = 'images/Jimi_Hendrix_1967_uncropped.jpg'\n",
    "im_target = Image.open(target_image_path).convert('L')"
   ]
  },
  {
   "cell_type": "code",
   "execution_count": 8,
   "id": "bd071029-ef86-4093-a616-d98020961386",
   "metadata": {},
   "outputs": [
    {
     "data": {
      "text/plain": [
       "array([[153, 133, 133, ..., 187, 196, 187],\n",
       "       [155, 152, 137, ..., 190, 195, 188],\n",
       "       [160, 158, 155, ..., 190, 193, 173],\n",
       "       ...,\n",
       "       [233, 243, 244, ..., 157, 140, 120],\n",
       "       [235, 237, 237, ..., 157, 112, 109],\n",
       "       [233, 235, 235, ..., 143,  94,  88]], dtype=uint8)"
      ]
     },
     "execution_count": 8,
     "metadata": {},
     "output_type": "execute_result"
    }
   ],
   "source": [
    "np.asarray(im_target)"
   ]
  },
  {
   "cell_type": "code",
   "execution_count": 13,
   "id": "bba83e62-ddf1-45e4-acff-bd7506b7915f",
   "metadata": {},
   "outputs": [
    {
     "name": "stdout",
     "output_type": "stream",
     "text": [
      "(954, 1280)\n",
      "True\n"
     ]
    }
   ],
   "source": [
    "print(np.asarray(im_target).shape)\n",
    "print(np.asarray(im_target).T.shape == im_target.size)"
   ]
  },
  {
   "cell_type": "code",
   "execution_count": 11,
   "id": "aeaae335-ca4a-4abc-b180-69989112c677",
   "metadata": {},
   "outputs": [
    {
     "data": {
      "text/plain": [
       "(1280, 954)"
      ]
     },
     "execution_count": 11,
     "metadata": {},
     "output_type": "execute_result"
    }
   ],
   "source": [
    "im_target.size"
   ]
  },
  {
   "cell_type": "markdown",
   "id": "ec06671a-6990-4b53-b516-a49bfcf8ca8e",
   "metadata": {},
   "source": [
    "Generate a blank canvas on which our hill climbing artist will create the generated image. "
   ]
  },
  {
   "cell_type": "code",
   "execution_count": 17,
   "id": "6a348573-50ce-4117-a767-279ec4e10de8",
   "metadata": {},
   "outputs": [],
   "source": [
    "# color variables\n",
    "BLACK = 0\n",
    "WHITE = 255\n",
    "\n",
    "# initial blank starting image\n",
    "im_generated = Image.new(mode='L', size=im_target.size, color=WHITE)"
   ]
  },
  {
   "cell_type": "markdown",
   "id": "e09344a9-ff37-4394-a1a3-6fd3cb8f73d1",
   "metadata": {},
   "source": [
    "Can draw a circle on our generated image using `ImageDraw`. \n",
    "\n",
    "For example here we draw a black circle on a new blank image. "
   ]
  },
  {
   "cell_type": "code",
   "execution_count": 24,
   "id": "180c3066-ce0c-4e76-b661-f4ac83861cd8",
   "metadata": {},
   "outputs": [
    {
     "data": {
      "image/png": "[encoded data removed]",
      "text/plain": [
       "<PIL.Image.Image image mode=L size=100x100>"
      ]
     },
     "execution_count": 24,
     "metadata": {},
     "output_type": "execute_result"
    }
   ],
   "source": [
    "from PIL import ImageDraw\n",
    "\n",
    "# new image\n",
    "im = Image.new(mode='L', size=(100, 100), color=WHITE)\n",
    "\n",
    "# draw object\n",
    "draw = ImageDraw.Draw(im)\n",
    "draw.ellipse(xy=((25, 0), # starting coordinate\n",
    "                 (50, 25)), # ending coordinate\n",
    "             fill=BLACK)\n",
    "\n",
    "# im.save('images/circle_draw_example.jpg')\n",
    "im"
   ]
  },
  {
   "cell_type": "markdown",
   "id": "d7a27215-2211-4991-811e-a06fc76a94ee",
   "metadata": {},
   "source": [
    "Difference between 2 images"
   ]
  },
  {
   "cell_type": "code",
   "execution_count": 37,
   "id": "8470a81f-3839-4549-863e-e401f52a973e",
   "metadata": {},
   "outputs": [
    {
     "data": {
      "image/png": "[encoded data removed]",
      "text/plain": [
       "<PIL.Image.Image image mode=L size=100x100>"
      ]
     },
     "execution_count": 37,
     "metadata": {},
     "output_type": "execute_result"
    }
   ],
   "source": [
    "from PIL import ImageChops\n",
    "\n",
    "# image with a black circle\n",
    "im1 = Image.new(mode='L', size=(100, 100), color=WHITE)\n",
    "\n",
    "draw = ImageDraw.Draw(im1)\n",
    "draw.ellipse(xy=((25, 0), # starting coordinate\n",
    "                 (75, 50)), # ending coordinate\n",
    "             fill=BLACK)\n",
    "\n",
    "# gray circle\n",
    "im2 = Image.new(mode='L', size=(100, 100), color=WHITE)\n",
    "draw = ImageDraw.Draw(im2)\n",
    "draw.ellipse(xy=((50, 0), # starting coordinate\n",
    "                 (100, 50)), # ending coordinate\n",
    "             fill=180)\n",
    "im1.save('images/black_circle.jpg')\n",
    "im1"
   ]
  },
  {
   "cell_type": "code",
   "execution_count": 38,
   "id": "0156dd69-c436-4669-bddf-37125e2203a9",
   "metadata": {},
   "outputs": [
    {
     "data": {
      "image/png": "[encoded data removed]",
      "text/plain": [
       "<PIL.Image.Image image mode=L size=100x100>"
      ]
     },
     "execution_count": 38,
     "metadata": {},
     "output_type": "execute_result"
    }
   ],
   "source": [
    "im2.save('images/gray_circle.jpg')\n",
    "im2"
   ]
  },
  {
   "cell_type": "code",
   "execution_count": 39,
   "id": "3b80e558-a1e6-4790-a703-094cc5e93218",
   "metadata": {},
   "outputs": [
    {
     "data": {
      "image/png": "[encoded data removed]",
      "text/plain": [
       "<PIL.Image.Image image mode=L size=100x100>"
      ]
     },
     "execution_count": 39,
     "metadata": {},
     "output_type": "execute_result"
    }
   ],
   "source": [
    "ImageChops.difference(im1, im2).save('images/circle_diff.jpg')\n",
    "ImageChops.difference(im1, im2)"
   ]
  },
  {
   "cell_type": "markdown",
   "id": "25610317-6689-484c-a82e-b53764fcb268",
   "metadata": {},
   "source": [
    "What's the average difference of these images? "
   ]
  },
  {
   "cell_type": "code",
   "execution_count": 42,
   "id": "acb08fdb-a8e3-405f-81ce-e280fade2530",
   "metadata": {},
   "outputs": [],
   "source": [
    "im_diff = ImageChops.difference(im1, im2)\n",
    "array_diff = np.asarray(im_diff)"
   ]
  },
  {
   "cell_type": "code",
   "execution_count": 45,
   "id": "002ba8f4-6396-4d2f-9a79-fd98281d35e4",
   "metadata": {},
   "outputs": [
    {
     "data": {
      "text/plain": [
       "0.21438235294117647"
      ]
     },
     "execution_count": 45,
     "metadata": {},
     "output_type": "execute_result"
    }
   ],
   "source": [
    "array_diff.mean() / WHITE"
   ]
  },
  {
   "cell_type": "code",
   "execution_count": 44,
   "id": "a3690510-f95f-43ad-abcc-56fb4121fc33",
   "metadata": {},
   "outputs": [
    {
     "data": {
      "text/plain": [
       "10000"
      ]
     },
     "execution_count": 44,
     "metadata": {},
     "output_type": "execute_result"
    }
   ],
   "source": [
    "array_diff.size"
   ]
  },
  {
   "cell_type": "code",
   "execution_count": 47,
   "id": "1c058394-6fda-4c08-85d7-88480ae227a2",
   "metadata": {},
   "outputs": [
    {
     "data": {
      "text/plain": [
       "0.21438235294117647"
      ]
     },
     "execution_count": 47,
     "metadata": {},
     "output_type": "execute_result"
    }
   ],
   "source": [
    "num_pixels = np.zeros(im_diff.size).size\n",
    "array_diff.sum() / (num_pixels * WHITE)"
   ]
  },
  {
   "cell_type": "code",
   "execution_count": null,
   "id": "84794f45-3755-4846-b57d-5dbf6868b2d0",
   "metadata": {},
   "outputs": [],
   "source": []
  },
  {
   "cell_type": "code",
   "execution_count": null,
   "id": "896eab46-0f94-488d-a4ae-0a9a80d51342",
   "metadata": {},
   "outputs": [],
   "source": []
  },
  {
   "cell_type": "code",
   "execution_count": null,
   "id": "57153fbf-85fb-444f-af06-c0d829dd26fd",
   "metadata": {},
   "outputs": [],
   "source": []
  },
  {
   "cell_type": "code",
   "execution_count": null,
   "id": "bad20a86-d0c4-456a-910f-c588752462f4",
   "metadata": {},
   "outputs": [],
   "source": []
  }
 ],
 "metadata": {
  "kernelspec": {
   "display_name": "Python 3",
   "language": "python",
   "name": "python3"
  },
  "language_info": {
   "codemirror_mode": {
    "name": "ipython",
    "version": 3
   },
   "file_extension": ".py",
   "mimetype": "text/x-python",
   "name": "python",
   "nbconvert_exporter": "python",
   "pygments_lexer": "ipython3",
   "version": "3.10.9"
  }
 },
 "nbformat": 4,
 "nbformat_minor": 5
}
